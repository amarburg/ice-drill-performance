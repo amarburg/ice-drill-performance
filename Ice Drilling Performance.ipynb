{
 "cells": [
  {
   "cell_type": "markdown",
   "metadata": {},
   "source": [
    "# Ice Drilling "
   ]
  },
  {
   "cell_type": "code",
   "execution_count": 2,
   "metadata": {
    "collapsed": false
   },
   "outputs": [],
   "source": [
    "import pandas as pd\n",
    "import numpy as np\n",
    "\n",
    "import math\n",
    "\n",
    "%matplotlib notebook\n",
    "import matplotlib.pyplot as plt"
   ]
  },
  {
   "cell_type": "code",
   "execution_count": 22,
   "metadata": {
    "collapsed": false
   },
   "outputs": [],
   "source": [
    "# constants\n",
    "\n",
    "Cp = 4.186            # specific heat of water in J / g K\n",
    "Lf = 333.55           # enthalpy of fusion for water  J / g\n",
    "water_density = 1e6   # g/m^3"
   ]
  },
  {
   "cell_type": "markdown",
   "metadata": {},
   "source": [
    "## Ice Diver Analysis"
   ]
  },
  {
   "cell_type": "code",
   "execution_count": 50,
   "metadata": {
    "collapsed": false
   },
   "outputs": [
    {
     "name": "stdout",
     "output_type": "stream",
     "text": [
      "              area\n",
      "diameter          \n",
      "0.06      0.002827\n",
      "0.07      0.003848\n",
      "0.08      0.005027\n",
      "0.09      0.006362\n",
      "0.10      0.007854\n",
      "0.11      0.009503\n",
      "0.12      0.011310\n",
      "0.15      0.017671\n",
      "0.20      0.031416\n",
      "0.30      0.070686\n"
     ]
    }
   ],
   "source": [
    "diameters_cm = pd.Series([6,7,8,9,10,11,12,15,20,30])\n",
    "\n",
    "ice_diver = pd.DataFrame(index=diameters_cm/100)\n",
    "ice_diver.index.name = \"diameter\"\n",
    "\n",
    "ice_diver['area'] = math.pi * (ice_diver.index/2)**2\n",
    "\n",
    "print(ice_diver)"
   ]
  },
  {
   "cell_type": "code",
   "execution_count": 61,
   "metadata": {
    "collapsed": false
   },
   "outputs": [
    {
     "name": "stdout",
     "output_type": "stream",
     "text": [
      "Ice diver electrical energy delivered: 1.20 kW\n",
      "Ice diver thermal energy delivered: 1.20 kW\n",
      "Ice diver cross section 3.85e-03 m^2\n",
      "Ice diver drill speed 9.35e-04 m/s (3.37 m/hour)\n"
     ]
    }
   ],
   "source": [
    "icediver_generator = 1.6e3   #1.6kW\n",
    "icediver_electrical_efficiency = 0.75\n",
    "\n",
    "icediver_power_delivered = icediver_electrical_efficiency*icediver_generator\n",
    "print(\"Ice diver electrical energy delivered: %.2f kW\" % (icediver_power_delivered/1000))\n",
    "\n",
    "print(\"Ice diver thermal energy delivered: %.2f kW\" % (icediver_power_delivered/1000))\n",
    "\n",
    "icediver_diam = 0.07   # 7 cm\n",
    "icediver_area = math.pi * (icediver_diam/2)**2\n",
    "print(\"Ice diver cross section %.2e m^2\" % icediver_area)\n",
    "\n",
    "icediver_drill_speed = icediver_power_delivered / (icediver_area * water_density * Lf)  \n",
    "\n",
    "print(\"Ice diver drill speed %.2e m/s (%.2f m/hour)\" % (icediver_drill_speed, icediver_drill_speed*3600))\n",
    "\n",
    "\n",
    "ice_diver['power_3m_hour'] = 3/3600 * ice_diver['area'] * water_density * Lf\n",
    "ice_diver['power_5m_hour'] = 5/3600 * ice_diver['area'] * water_density * Lf\n",
    "ice_diver['power_10m_hour'] = 10/3600 * ice_diver['area'] * water_density * Lf\n",
    "ice_diver['power_30m_hour'] = 30/3600 * ice_diver['area'] * water_density * Lf\n"
   ]
  },
  {
   "cell_type": "markdown",
   "metadata": {},
   "source": [
    "## WISSARD\n",
    "\n",
    "From:  \n",
    "\n",
    "* Rack, Frank R., et al. \"Developing a hot-water drill system for the WISSARD project: 1. Basic drill system components and design.\" Annals of Glaciology 55.68 (2014): 285-297.\n",
    "\n"
   ]
  },
  {
   "cell_type": "code",
   "execution_count": 33,
   "metadata": {
    "collapsed": false
   },
   "outputs": [
    {
     "name": "stdout",
     "output_type": "stream",
     "text": [
      "WISSARD input power (from fuel consumption): 1210.59 kW\n",
      "WISSARD output power (from fuel consumption): 907.94 kW\n",
      "WISSARD output power (from heater-induced water temperature change): 992.58 kW\n",
      "WISSARD output power (from water temp change while in drillhole): 1488.88 kW\n"
     ]
    }
   ],
   "source": [
    "# Thermal output from fuel input (from Rack 2014 pp 297)\n",
    "num_heaters = 6\n",
    "jp8_energy_density = 43e6   # Joules / kg\n",
    "jp8_mass_density   = 0.809  # kg / L\n",
    "heater_consumption = 0.0058 # L / s\n",
    "P_fuel = num_heaters * jp8_energy_density * jp8_mass_density * heater_consumption\n",
    "\n",
    "fuel_to_water_eff = 0.75\n",
    "P_fuel_to_water = P_fuel * fuel_to_water_eff\n",
    "\n",
    "\n",
    "# Alternate calculation using quoted temp rise for heaters\n",
    "temp_rise = 52   # deg C\n",
    "water_flow = 760  # ml/s/heater\n",
    "P_water_temp_rise = num_heaters * temp_rise * water_flow * Cp\n",
    "\n",
    "print(\"WISSARD input power (from fuel consumption): %.2f kW\" % (P_fuel/1000.0))\n",
    "print(\"WISSARD output power (from fuel consumption): %.2f kW\" % (P_fuel_to_water/1000))\n",
    "print(\"WISSARD output power (from heater-induced water temperature change): %.2f kW\" % (P_water_temp_rise/1000))\n",
    "\n",
    "# Alternate calculation using actual delta-Temp of water going into hold\n",
    "water_temp_change = 78 \n",
    "P_total_water_temp = num_heaters * water_flow * Cp * water_temp_change\n",
    "print(\"WISSARD output power (from water temp change while in drillhole): %.2f kW\" % (P_total_water_temp/1000))\n",
    "\n",
    "\n",
    "wissard_hole_diam = 0.4   # 40cm\n",
    "wissard_area = math.pi * (wissard_hole_diam/2)**2\n",
    "\n"
   ]
  },
  {
   "cell_type": "markdown",
   "metadata": {},
   "source": [
    "# Drilling Model\n",
    "\n",
    "A very simplistic conservation of energy model where drilling through ice consists of melting a cylinder of ice of area $A$ and length $L$\n",
    "\n",
    "$$ energy = L A \\rho Lf$$\n",
    "\n",
    "$ L = $ length of drillhole\n",
    "\n",
    "$ A = $ area of hole\n",
    "\n",
    "$\\rho = $ density of ice $= 1e6 g/m^3$ (?)\n",
    "\n",
    "$Lf = $ enthalpy of fusion of water  $= 333.55$ J/g"
   ]
  },
  {
   "cell_type": "code",
   "execution_count": 35,
   "metadata": {
    "collapsed": false
   },
   "outputs": [
    {
     "name": "stdout",
     "output_type": "stream",
     "text": [
      "Predicted WISSARD drill speed: 0.02 m/s (1.30 m/min, 77.98 m/hour)\n"
     ]
    }
   ],
   "source": [
    "wissard_drill_speed = P_fuel_to_water / (wissard_area * water_density * Lf)  \n",
    "\n",
    "print(\"Predicted WISSARD drill speed: %.2f m/s (%.2f m/min, %.2f m/hour)\" % (wissard_drill_speed, wissard_drill_speed*60, wissard_drill_speed*3600))"
   ]
  },
  {
   "cell_type": "code",
   "execution_count": null,
   "metadata": {
    "collapsed": false,
    "scrolled": false
   },
   "outputs": [],
   "source": [
    "fig, ax = plt.subplots()\n",
    "\n",
    "ax.set_title('Drilling')\n",
    "ax.set_ylabel('Input power')\n",
    "ax.set_xlabel('Diameter (cm)')\n",
    "ax.loglog()\n",
    "\n",
    "ax.scatter([0.4*100], [P_fuel])\n",
    "ax.text(0.4*100, P_fuel, \"WISSARD (60+ m/hr)\")\n",
    "\n",
    "ax.plot( ice_diver.index*100, ice_diver['power_3m_hour'], label='Ice Diver 3m/hr')\n",
    "ax.plot( ice_diver.index*100, ice_diver['power_5m_hour'], label='Ice Diver 5m/hr')\n",
    "ax.plot( ice_diver.index*100, ice_diver['power_10m_hour'], label='Ice Diver 10m/hr')\n",
    "ax.plot( ice_diver.index*100, ice_diver['power_30m_hour'], label='Ice Diver 30m/hr')\n",
    "\n",
    "\n",
    "ax.plot( [7,7], [500,10e4], 'r--', label='7cm -- current Ice Diver')\n",
    "ax.plot( [6,40], [1e4, 1e4], 'b--', label='10kW')\n",
    "\n",
    "ax.legend()"
   ]
  },
  {
   "cell_type": "code",
   "execution_count": null,
   "metadata": {
    "collapsed": true
   },
   "outputs": [],
   "source": []
  }
 ],
 "metadata": {
  "kernelspec": {
   "display_name": "Python 3",
   "language": "python",
   "name": "python3"
  }
 },
 "nbformat": 4,
 "nbformat_minor": 2
}
